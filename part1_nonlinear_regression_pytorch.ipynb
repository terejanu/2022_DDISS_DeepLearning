{
 "cells": [
  {
   "cell_type": "code",
   "execution_count": null,
   "metadata": {},
   "outputs": [],
   "source": [
    "#!pip install torch torchvision torchaudio"
   ]
  },
  {
   "cell_type": "code",
   "execution_count": null,
   "metadata": {},
   "outputs": [],
   "source": [
    "import numpy as np\n",
    "import matplotlib.pyplot as plt\n",
    "from sklearn import datasets\n",
    "from sklearn.model_selection import train_test_split\n",
    "from sklearn.metrics import mean_squared_error, r2_score\n",
    "from sklearn.preprocessing import StandardScaler\n",
    "import torch\n",
    "import torch.nn as nn\n",
    "from torch.utils.data import TensorDataset\n",
    "from torch.utils.data import DataLoader\n",
    "\n",
    "%matplotlib inline"
   ]
  },
  {
   "cell_type": "code",
   "execution_count": null,
   "metadata": {},
   "outputs": [],
   "source": [
    "# load dataset\n",
    "ds = datasets.fetch_california_housing()\n",
    "X = ds.data.astype(np.float32)\n",
    "y = ds.target.astype(np.float32)\n",
    "\n",
    "# remove very cheap or very expensive homes (saturates =< 0.15 or >= 5)\n",
    "ind = (y > 0.15) & (y < 5)\n",
    "X = X[ind,:]\n",
    "y = y[ind]\n",
    "\n",
    "# transform target - more Gaussian\n",
    "y = np.log(y)\n",
    "\n",
    "# scale input attributes\n",
    "scaler = StandardScaler()\n",
    "X_scaled = scaler.fit_transform(X)\n",
    "\n",
    "# split data into train and test - !!! added valid dataset for pytorch\n",
    "X_train_valid, X_test, y_train_valid, y_test = train_test_split(X_scaled, y, test_size=0.33, random_state=0)\n",
    "X_train, X_valid, y_train, y_valid = train_test_split(X_train_valid, y_train_valid, test_size=0.33, random_state=0)"
   ]
  },
  {
   "cell_type": "code",
   "execution_count": null,
   "metadata": {},
   "outputs": [],
   "source": [
    "# info about the dataset\n",
    "print(ds.DESCR)"
   ]
  },
  {
   "cell_type": "code",
   "execution_count": null,
   "metadata": {},
   "outputs": [],
   "source": [
    "# -------------------------------------------------------------\n",
    "# backprop for traning & evaluation for validation\n",
    "# https://pytorch.org/tutorials/beginner/nn_tutorial.html\n",
    "# -------------------------------------------------------------\n",
    "def loss_batch(model, loss_func, xb, yb, opt=None):\n",
    "    loss = loss_func(model(xb), yb)\n",
    "\n",
    "    if opt is not None:\n",
    "        loss.backward()\n",
    "        opt.step()\n",
    "        opt.zero_grad()\n",
    "\n",
    "    return loss.item(), len(xb)\n",
    "\n",
    "# -------------------------------------------------------------\n",
    "# custom PyTorch fit function\n",
    "# https://pytorch.org/tutorials/beginner/nn_tutorial.html\n",
    "# -------------------------------------------------------------\n",
    "def fit(epochs, model, loss_func, opt, train_dl, valid_dl, prt_every_epoch=100):\n",
    "    \n",
    "    learning_curve = []\n",
    "    \n",
    "    for epoch in range(1,epochs+1):\n",
    "        model.train()\n",
    "        for xb, yb in train_dl:\n",
    "            loss_batch(model, loss_func, xb, yb, opt)\n",
    "\n",
    "        model.eval()\n",
    "        with torch.no_grad():\n",
    "            train_losses, train_nums = zip(\n",
    "                *[loss_batch(model, loss_func, xb, yb) for xb, yb in train_dl]\n",
    "            )            \n",
    "            valid_losses, valid_nums = zip(\n",
    "                *[loss_batch(model, loss_func, xb, yb) for xb, yb in valid_dl]\n",
    "            )\n",
    "        train_loss = np.sum(np.multiply(train_losses, train_nums)) / np.sum(train_nums)\n",
    "        valid_loss = np.sum(np.multiply(valid_losses, valid_nums)) / np.sum(valid_nums)\n",
    "        learning_curve.append([epoch, train_loss, valid_loss])\n",
    "\n",
    "        if epoch % prt_every_epoch == 0:\n",
    "            print(f'epoch # {epoch:<6}\\t train_loss = {train_loss:>6.4f}\\t valid_loss = {valid_loss:>6.4f}')\n",
    "        \n",
    "    return np.array(learning_curve)"
   ]
  },
  {
   "cell_type": "code",
   "execution_count": null,
   "metadata": {},
   "outputs": [],
   "source": [
    "# -------------------------------------------------------------\n",
    "# Step 0 - preparations for pytorch\n",
    "# -------------------------------------------------------------\n",
    "\n",
    "# 0.1 - training settings\n",
    "batch_size = 512\n",
    "epochs = 200\n",
    "learning_rate = 0.001\n",
    "\n",
    "# 0.2 - prepare data for pytorch\n",
    "\n",
    "# tensorize data\n",
    "ts_X_train, ts_y_train, ts_X_valid, ts_y_valid, ts_X_test, ts_y_test = map(\n",
    "    torch.tensor, (X_train, y_train.reshape(-1,1), X_valid, y_valid.reshape(-1,1), X_test, y_test.reshape(-1,1))\n",
    ")\n",
    "\n",
    "# batch management\n",
    "train_ds = TensorDataset(ts_X_train, ts_y_train)\n",
    "train_dl = DataLoader(train_ds, batch_size=batch_size, shuffle=True)\n",
    "\n",
    "valid_ds = TensorDataset(ts_X_valid, ts_y_valid)\n",
    "valid_dl = DataLoader(valid_ds, batch_size=batch_size * 2)\n",
    "\n",
    "# -------------------------------------------------------------\n",
    "# Step 1 - create pytorch nn object\n",
    "# -------------------------------------------------------------\n",
    "model = nn.Sequential(\n",
    "    nn.Linear(8,100),\n",
    "    nn.BatchNorm1d(100),\n",
    "    nn.ELU(),\n",
    "    nn.Linear(100,50),\n",
    "    nn.BatchNorm1d(50),\n",
    "    nn.ELU(),    \n",
    "    nn.Linear(50,2),\n",
    "    nn.BatchNorm1d(2),\n",
    "    nn.ELU(),        \n",
    "    nn.Linear(2,1),\n",
    ")\n",
    "\n",
    "# -------------------------------------------------------------\n",
    "# Step 2 - train model\n",
    "# -------------------------------------------------------------\n",
    "\n",
    "# 2.1 - define the loss function\n",
    "loss_func = nn.MSELoss()\n",
    "\n",
    "# 2.2 - choose the optimizer\n",
    "optimizer = torch.optim.Adam(model.parameters(), lr=learning_rate)\n",
    "\n",
    "# 2.3 - perform the optimization\n",
    "learning_curve = fit(epochs, model, loss_func, optimizer, train_dl, valid_dl, prt_every_epoch=10)\n",
    "\n",
    "# -------------------------------------------------------------\n",
    "# Step 3 - make predictions\n",
    "# -------------------------------------------------------------\n",
    "model.eval()\n",
    "with torch.no_grad():\n",
    "    y_pred = model(ts_X_test).numpy()"
   ]
  },
  {
   "cell_type": "code",
   "execution_count": null,
   "metadata": {},
   "outputs": [],
   "source": [
    "# loss function\n",
    "plt.figure(figsize=(10,10))\n",
    "plt.plot(learning_curve[:,1], 'r', label='train')\n",
    "plt.plot(learning_curve[:,2], 'b' ,label='val')\n",
    "plt.xlabel('Epoch', fontsize=20)\n",
    "plt.ylabel('Loss - MSE', fontsize=20)\n",
    "plt.legend()\n",
    "plt.tick_params(labelsize=20)"
   ]
  },
  {
   "cell_type": "code",
   "execution_count": null,
   "metadata": {},
   "outputs": [],
   "source": [
    "# info about the model\n",
    "print('Model arch:\\n', model)\n",
    "# print('Model params:')\n",
    "# for name, param in model.named_parameters():\n",
    "#     if param.requires_grad:\n",
    "#         print(name, ':', param)\n",
    "print('Test RMSE:\\n', np.sqrt(mean_squared_error(y_test, y_pred)))\n",
    "print('R2:\\n', r2_score(y_test, y_pred))"
   ]
  },
  {
   "cell_type": "code",
   "execution_count": null,
   "metadata": {},
   "outputs": [],
   "source": [
    "# Plot actual vs predicted\n",
    "plt.figure(figsize=(10,10))\n",
    "plt.scatter(y_test, y_pred, c='red')\n",
    "\n",
    "p1 = max(max(y_pred), max(y_test))\n",
    "p2 = min(min(y_pred), min(y_test))\n",
    "plt.plot([p1, p2], [p1, p2], 'b-')\n",
    "plt.xlabel('Actual', fontsize=15)\n",
    "plt.ylabel('Predictions', fontsize=15)\n",
    "plt.axis('equal')\n",
    "plt.show()"
   ]
  },
  {
   "cell_type": "code",
   "execution_count": null,
   "metadata": {},
   "outputs": [],
   "source": [
    "# save model\n",
    "torch.save(model, 'nonlin_reg.nn')"
   ]
  },
  {
   "cell_type": "code",
   "execution_count": null,
   "metadata": {},
   "outputs": [],
   "source": []
  }
 ],
 "metadata": {
  "kernelspec": {
   "display_name": "Python 3",
   "language": "python",
   "name": "python3"
  },
  "language_info": {
   "codemirror_mode": {
    "name": "ipython",
    "version": 3
   },
   "file_extension": ".py",
   "mimetype": "text/x-python",
   "name": "python",
   "nbconvert_exporter": "python",
   "pygments_lexer": "ipython3",
   "version": "3.8.3"
  }
 },
 "nbformat": 4,
 "nbformat_minor": 5
}
