{
 "cells": [
  {
   "cell_type": "code",
   "execution_count": null,
   "metadata": {},
   "outputs": [],
   "source": [
    "import numpy as np\n",
    "import matplotlib.pyplot as plt\n",
    "from sklearn import datasets, linear_model\n",
    "from sklearn.model_selection import train_test_split\n",
    "from sklearn.metrics import mean_squared_error, r2_score\n",
    "from sklearn.preprocessing import StandardScaler\n",
    "\n",
    "%matplotlib inline"
   ]
  },
  {
   "cell_type": "code",
   "execution_count": null,
   "metadata": {},
   "outputs": [],
   "source": [
    "# load dataset\n",
    "ds = datasets.fetch_california_housing()\n",
    "X = ds.data\n",
    "y = ds.target\n",
    "\n",
    "# remove very cheap or very expensive homes (saturates =< 0.15 or >= 5)\n",
    "ind = (y > 0.15) & (y < 5)\n",
    "X = X[ind,:]\n",
    "y = y[ind]\n",
    "\n",
    "# transform target - more Gaussian\n",
    "y = np.log(y)\n",
    "\n",
    "# scale attributes\n",
    "scaler = StandardScaler()\n",
    "X_scaled = scaler.fit_transform(X)\n",
    "\n",
    "# split data into train and test\n",
    "X_train, X_test, y_train, y_test = train_test_split(X_scaled, y, test_size=0.33, random_state=0)"
   ]
  },
  {
   "cell_type": "code",
   "execution_count": null,
   "metadata": {},
   "outputs": [],
   "source": [
    "# info about the dataset\n",
    "print(ds.DESCR)"
   ]
  },
  {
   "cell_type": "code",
   "execution_count": null,
   "metadata": {},
   "outputs": [],
   "source": [
    "# -------------------------------------------------------------\n",
    "# Step 1 - create a linear regression object\n",
    "# -------------------------------------------------------------\n",
    "model = linear_model.LinearRegression()\n",
    "\n",
    "# -------------------------------------------------------------\n",
    "# Step 2 - train model\n",
    "# -------------------------------------------------------------\n",
    "model.fit(X_train, y_train)\n",
    "\n",
    "# -------------------------------------------------------------\n",
    "# Step 3 - make predictions\n",
    "# -------------------------------------------------------------\n",
    "y_pred = model.predict(X_test)"
   ]
  },
  {
   "cell_type": "code",
   "execution_count": null,
   "metadata": {},
   "outputs": [],
   "source": [
    "# info about the model\n",
    "print('Model coeffs:\\n', model.coef_)\n",
    "print('Model intercept:\\n', model.intercept_)\n",
    "print('Test RMSE:\\n', np.sqrt(mean_squared_error(y_test, y_pred)))\n",
    "print('R2:\\n', r2_score(y_test, y_pred))"
   ]
  },
  {
   "cell_type": "code",
   "execution_count": null,
   "metadata": {},
   "outputs": [],
   "source": [
    "# Plot actual vs predicted\n",
    "plt.figure(figsize=(10,10))\n",
    "plt.scatter(y_test, y_pred, c='red')\n",
    "\n",
    "p1 = max(max(y_pred), max(y_test))\n",
    "p2 = min(min(y_pred), min(y_test))\n",
    "plt.plot([p1, p2], [p1, p2], 'b-')\n",
    "plt.xlabel('Actual', fontsize=15)\n",
    "plt.ylabel('Predictions', fontsize=15)\n",
    "plt.axis('equal')\n",
    "plt.show()"
   ]
  },
  {
   "cell_type": "code",
   "execution_count": null,
   "metadata": {},
   "outputs": [],
   "source": []
  }
 ],
 "metadata": {
  "kernelspec": {
   "display_name": "Python 3",
   "language": "python",
   "name": "python3"
  },
  "language_info": {
   "codemirror_mode": {
    "name": "ipython",
    "version": 3
   },
   "file_extension": ".py",
   "mimetype": "text/x-python",
   "name": "python",
   "nbconvert_exporter": "python",
   "pygments_lexer": "ipython3",
   "version": "3.8.3"
  }
 },
 "nbformat": 4,
 "nbformat_minor": 5
}
