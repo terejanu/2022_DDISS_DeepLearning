{
 "cells": [
  {
   "cell_type": "code",
   "execution_count": 1,
   "metadata": {},
   "outputs": [],
   "source": [
    "#!pip install torch torchvision torchaudio\n",
    "#!pip install captum"
   ]
  },
  {
   "cell_type": "code",
   "execution_count": 8,
   "metadata": {},
   "outputs": [],
   "source": [
    "import numpy as np\n",
    "import matplotlib.pyplot as plt\n",
    "import torch\n",
    "import torch.nn as nn\n",
    "import torchvision\n",
    "import torchvision.transforms as transforms\n",
    "from torchvision.datasets import CIFAR10\n",
    "from torch.utils.data import Dataset, DataLoader, TensorDataset\n",
    "from sklearn.model_selection import train_test_split\n",
    "from captum.attr import IntegratedGradients, NoiseTunnel\n",
    "from captum.attr import visualization as viz\n",
    "\n",
    "%matplotlib inline"
   ]
  },
  {
   "cell_type": "code",
   "execution_count": 9,
   "metadata": {},
   "outputs": [
    {
     "name": "stdout",
     "output_type": "stream",
     "text": [
      "CUDA is available!  Training on GPU ...\n"
     ]
    }
   ],
   "source": [
    "# check if CUDA is available\n",
    "train_on_gpu = torch.cuda.is_available()\n",
    "\n",
    "if not train_on_gpu:\n",
    "    print('CUDA is not available.  Training on CPU ...')\n",
    "else:\n",
    "    print('CUDA is available!  Training on GPU ...')"
   ]
  },
  {
   "cell_type": "markdown",
   "metadata": {},
   "source": [
    "![CIFAR-10](https://pytorch.org/tutorials/_images/cifar10.png)"
   ]
  },
  {
   "cell_type": "code",
   "execution_count": 10,
   "metadata": {},
   "outputs": [
    {
     "name": "stdout",
     "output_type": "stream",
     "text": [
      "Files already downloaded and verified\n",
      "Files already downloaded and verified\n"
     ]
    }
   ],
   "source": [
    "# load CIFAR-10 dataset\n",
    "\n",
    "transform = transforms.Compose(\n",
    "    [transforms.ToTensor(),\n",
    "     transforms.Normalize((0.5, 0.5, 0.5), (0.5, 0.5, 0.5))])\n",
    "\n",
    "trainset = torchvision.datasets.CIFAR10(root='./data', train=True,\n",
    "                                        download=True, transform=transform)\n",
    "\n",
    "testset = torchvision.datasets.CIFAR10(root='./data', train=False,\n",
    "                                       download=True, transform=transform)\n",
    "\n",
    "classDict = {'plane': 0, 'car': 1, 'bird': 2, 'cat': 3, 'deer': 4,\n",
    "             'dog': 5, 'frog': 6, 'horse': 7, 'ship': 8, 'truck': 9}\n",
    "\n",
    "# Separating trainset/testset data/label\n",
    "X_train_valid = np.array(trainset.data).astype(np.float32)\n",
    "X_test = np.array(testset.data).astype(np.float32)\n",
    "y_train_valid = np.array(trainset.targets)\n",
    "y_test = np.array(testset.targets)"
   ]
  },
  {
   "cell_type": "code",
   "execution_count": 11,
   "metadata": {},
   "outputs": [
    {
     "data": {
      "text/plain": [
       "<matplotlib.image.AxesImage at 0x1c04f0d7b50>"
      ]
     },
     "execution_count": 11,
     "metadata": {},
     "output_type": "execute_result"
    },
    {
     "data": {
      "image/png": "[encoded data removed]",
      "text/plain": [
       "<Figure size 432x288 with 1 Axes>"
      ]
     },
     "metadata": {
      "needs_background": "light"
     },
     "output_type": "display_data"
    }
   ],
   "source": [
    "plt.imshow(X_train_valid[0,:].astype(int))"
   ]
  },
  {
   "cell_type": "code",
   "execution_count": 12,
   "metadata": {},
   "outputs": [],
   "source": [
    "# image input should be [B, C, H, W]\n",
    "X_train_valid = np.transpose(X_train_valid, (0, 3, 1, 2))\n",
    "X_test = np.transpose(X_test, (0, 3, 1, 2))\n",
    "\n",
    "# select cats & dogs for train dataset\n",
    "ind_cat_dog_train = [i for i in range(len(y_train_valid)) if (y_train_valid[i] == classDict['cat']) | (y_train_valid[i] == classDict['dog'])]\n",
    "X_train_valid = X_train_valid[ind_cat_dog_train, :, :, :]\n",
    "y_train_valid = y_train_valid[ind_cat_dog_train]\n",
    "\n",
    "# relabel targets\n",
    "y_train_valid[y_train_valid == classDict['cat']] = 0\n",
    "y_train_valid[y_train_valid == classDict['dog']] = 1\n",
    "\n",
    "# select cats & dogs for test dataset\n",
    "ind_cat_dog_test = [i for i in range(len(y_test)) if (y_test[i] == classDict['cat']) | (y_test[i] == classDict['dog'])]\n",
    "X_test = X_test[ind_cat_dog_test, :, :, :]\n",
    "y_test = y_test[ind_cat_dog_test]\n",
    "\n",
    "# relabel targets\n",
    "y_test[y_test == classDict['cat']] = 0\n",
    "y_test[y_test == classDict['dog']] = 1\n",
    "\n",
    "# get the validation dataset\n",
    "X_train, X_valid, y_train, y_valid = train_test_split(X_train_valid, y_train_valid, test_size=0.2, random_state=0)\n",
    "\n",
    "# tensorize data & instantiate data loaders\n",
    "ts_X_train, ts_y_train, ts_X_valid, ts_y_valid, ts_X_test, ts_y_test = map(\n",
    "    torch.tensor, (X_train, y_train, X_valid, y_valid, X_test, y_test)\n",
    ")\n",
    "\n",
    "# make sure that the targets are type long\n",
    "ts_y_train = ts_y_train.type(torch.LongTensor)\n",
    "ts_y_valid = ts_y_valid.type(torch.LongTensor)\n",
    "ts_y_test = ts_y_test.type(torch.LongTensor)\n",
    "\n",
    "if train_on_gpu:\n",
    "    ts_X_train = ts_X_train.cuda()\n",
    "    ts_y_train = ts_y_train.cuda()\n",
    "    ts_X_valid = ts_X_valid.cuda()\n",
    "    ts_y_valid = ts_y_valid.cuda()\n",
    "    ts_X_test = ts_X_test.cuda()\n",
    "    ts_y_test = ts_y_test.cuda()\n",
    "\n",
    "train_ds = TensorDataset(ts_X_train, ts_y_train)\n",
    "valid_ds = TensorDataset(ts_X_valid, ts_y_valid)\n",
    "test_ds = TensorDataset(ts_X_test, ts_y_test)"
   ]
  },
  {
   "cell_type": "code",
   "execution_count": 13,
   "metadata": {},
   "outputs": [],
   "source": [
    "# -------------------------------------------------------------\n",
    "# backprop for traning & evaluation for validation\n",
    "# https://pytorch.org/tutorials/beginner/nn_tutorial.html\n",
    "# -------------------------------------------------------------\n",
    "def loss_batch(model, loss_func, xb, yb, opt=None):\n",
    "    loss = loss_func(model(xb), yb)\n",
    "\n",
    "    if opt is not None:\n",
    "        loss.backward()\n",
    "        opt.step()\n",
    "        opt.zero_grad()\n",
    "\n",
    "    return loss.item(), len(xb)\n",
    "\n",
    "# -------------------------------------------------------------\n",
    "# custom PyTorch fit function\n",
    "# https://pytorch.org/tutorials/beginner/nn_tutorial.html\n",
    "# -------------------------------------------------------------\n",
    "def fit(epochs, model, loss_func, opt, train_dl, valid_dl, prt_every_epoch=100):\n",
    "    \n",
    "    learning_curve = []\n",
    "    \n",
    "    for epoch in range(1,epochs+1):\n",
    "        model.train()\n",
    "        for xb, yb in train_dl:\n",
    "            loss_batch(model, loss_func, xb, yb, opt)\n",
    "\n",
    "        model.eval()\n",
    "        with torch.no_grad():\n",
    "            train_losses, train_nums = zip(\n",
    "                *[loss_batch(model, loss_func, xb, yb) for xb, yb in train_dl]\n",
    "            )            \n",
    "            valid_losses, valid_nums = zip(\n",
    "                *[loss_batch(model, loss_func, xb, yb) for xb, yb in valid_dl]\n",
    "            )\n",
    "        train_loss = np.sum(np.multiply(train_losses, train_nums)) / np.sum(train_nums)\n",
    "        valid_loss = np.sum(np.multiply(valid_losses, valid_nums)) / np.sum(valid_nums)\n",
    "        learning_curve.append([epoch, train_loss, valid_loss])\n",
    "\n",
    "        if epoch % prt_every_epoch == 0:\n",
    "            print(f'epoch # {epoch:<6}\\t train_loss = {train_loss:>6.4f}\\t valid_loss = {valid_loss:>6.4f}')\n",
    "        \n",
    "    return np.array(learning_curve)"
   ]
  },
  {
   "cell_type": "code",
   "execution_count": 38,
   "metadata": {},
   "outputs": [
    {
     "name": "stdout",
     "output_type": "stream",
     "text": [
      "epoch # 10    \t train_loss = 0.2716\t valid_loss = 0.7014\n",
      "epoch # 20    \t train_loss = 0.0696\t valid_loss = 1.1110\n",
      "epoch # 30    \t train_loss = 0.0079\t valid_loss = 1.4799\n",
      "epoch # 40    \t train_loss = 0.0029\t valid_loss = 1.6733\n",
      "epoch # 50    \t train_loss = 0.0013\t valid_loss = 1.8143\n",
      "epoch # 60    \t train_loss = 0.0008\t valid_loss = 1.9157\n",
      "epoch # 70    \t train_loss = 0.0006\t valid_loss = 2.0107\n",
      "epoch # 80    \t train_loss = 0.0005\t valid_loss = 2.0859\n",
      "epoch # 90    \t train_loss = 0.0003\t valid_loss = 2.1505\n",
      "epoch # 100   \t train_loss = 0.0002\t valid_loss = 2.2033\n",
      "epoch # 110   \t train_loss = 0.0002\t valid_loss = 2.2513\n",
      "epoch # 120   \t train_loss = 0.0001\t valid_loss = 2.2980\n",
      "epoch # 130   \t train_loss = 0.0001\t valid_loss = 2.3391\n",
      "epoch # 140   \t train_loss = 0.0001\t valid_loss = 2.3769\n",
      "epoch # 150   \t train_loss = 0.0001\t valid_loss = 2.4066\n",
      "epoch # 160   \t train_loss = 0.0001\t valid_loss = 2.4442\n",
      "epoch # 170   \t train_loss = 0.0001\t valid_loss = 2.4806\n",
      "epoch # 180   \t train_loss = 0.0000\t valid_loss = 2.5149\n",
      "epoch # 190   \t train_loss = 0.0000\t valid_loss = 2.5612\n",
      "epoch # 200   \t train_loss = 0.0000\t valid_loss = 2.5773\n"
     ]
    }
   ],
   "source": [
    "# -------------------------------------------------------------\n",
    "# Step 0 - preparations for pytorch\n",
    "# -------------------------------------------------------------\n",
    "\n",
    "# 0.1 - training settings\n",
    "batch_size = 512\n",
    "epochs = 200\n",
    "learning_rate = 0.0005\n",
    "\n",
    "train_dl = DataLoader(train_ds, batch_size=batch_size, shuffle=True)\n",
    "valid_dl = DataLoader(valid_ds, batch_size=batch_size, shuffle=True)\n",
    "test_dl = DataLoader(test_ds, batch_size=batch_size, shuffle=True)\n",
    "\n",
    "# -------------------------------------------------------------\n",
    "# Step 1 - create a linear regression object (pytorch nn)\n",
    "# -------------------------------------------------------------\n",
    "\n",
    "# Task 1 - run with this model - What do you observe?\n",
    "# model = nn.Sequential(\n",
    "#     nn.Flatten(),\n",
    "#     nn.Linear(32*32*3,2)\n",
    "# )\n",
    "\n",
    "# Task 2 - run with this model - What do you observe?\n",
    "model = nn.Sequential(\n",
    "    nn.Conv2d(3, 6, 5),\n",
    "    nn.BatchNorm2d(6),\n",
    "    nn.ReLU(),\n",
    "    nn.MaxPool2d(2,2),\n",
    "\n",
    "    nn.Conv2d(6, 16, 5),\n",
    "    nn.BatchNorm2d(16),\n",
    "    nn.ReLU(),\n",
    "    nn.MaxPool2d(2,2),\n",
    "\n",
    "    nn.Flatten(),\n",
    "    nn.Linear(16 * 5 * 5, 120),\n",
    "    nn.BatchNorm1d(120),\n",
    "    nn.ReLU(),\n",
    "    nn.Linear(120, 84),\n",
    "    nn.BatchNorm1d(84),\n",
    "    nn.ReLU(),\n",
    "    nn.Linear(84, 2)\n",
    ")\n",
    "\n",
    "# Task 3 - run with this model - What do you observe?\n",
    "# model = nn.Sequential(\n",
    "#     nn.Conv2d(3, 6, 5),\n",
    "#     nn.BatchNorm2d(6),\n",
    "#     nn.ReLU(),\n",
    "#     nn.MaxPool2d(2,2),\n",
    "#     nn.Dropout(),\n",
    "\n",
    "#     nn.Conv2d(6, 16, 5),\n",
    "#     nn.BatchNorm2d(16),\n",
    "#     nn.ReLU(),\n",
    "#     nn.MaxPool2d(2,2),\n",
    "#     nn.Dropout(),\n",
    "\n",
    "#     nn.Flatten(),\n",
    "#     nn.Linear(16 * 5 * 5, 120),\n",
    "#     nn.BatchNorm1d(120),\n",
    "#     nn.ReLU(),\n",
    "#     nn.Dropout(),\n",
    "#     nn.Linear(120, 84),\n",
    "#     nn.BatchNorm1d(84),\n",
    "#     nn.ReLU(),\n",
    "#     nn.Dropout(),\n",
    "#     nn.Linear(84, 2)\n",
    "# )\n",
    "\n",
    "# move model to GPU if CUDA is available\n",
    "if train_on_gpu:\n",
    "    model.cuda()\n",
    "\n",
    "# -------------------------------------------------------------\n",
    "# Step 2 - train model\n",
    "# -------------------------------------------------------------\n",
    "\n",
    "# 2.1 - define the loss function\n",
    "loss_func = nn.CrossEntropyLoss()\n",
    "\n",
    "# 2.2 - choose the optimizer\n",
    "optimizer = torch.optim.Adam(model.parameters(), lr=learning_rate)\n",
    "\n",
    "# 2.3 - perform the optimization\n",
    "learning_curve = fit(epochs, model, loss_func, optimizer, train_dl, valid_dl, prt_every_epoch=10)\n",
    "\n",
    "# -------------------------------------------------------------\n",
    "# Step 3 - make predictions\n",
    "# -------------------------------------------------------------\n",
    "model.eval()\n",
    "with torch.no_grad():\n",
    "    y_pred = model(ts_X_test).cpu().numpy()   # logits"
   ]
  },
  {
   "cell_type": "code",
   "execution_count": 39,
   "metadata": {},
   "outputs": [
    {
     "data": {
      "image/png": "[encoded data removed]",
      "text/plain": [
       "<Figure size 720x720 with 1 Axes>"
      ]
     },
     "metadata": {
      "needs_background": "light"
     },
     "output_type": "display_data"
    }
   ],
   "source": [
    "# loss function\n",
    "plt.figure(figsize=(10,10))\n",
    "plt.plot(learning_curve[:,1], 'r', label='train')\n",
    "plt.plot(learning_curve[:,2], 'b' ,label='val')\n",
    "plt.xlabel('Epoch', fontsize=20)\n",
    "plt.ylabel('Loss - MSE', fontsize=20)\n",
    "plt.legend()\n",
    "plt.tick_params(labelsize=20)"
   ]
  },
  {
   "cell_type": "code",
   "execution_count": 40,
   "metadata": {},
   "outputs": [
    {
     "name": "stdout",
     "output_type": "stream",
     "text": [
      "Model arch:\n",
      " Sequential(\n",
      "  (0): Conv2d(3, 6, kernel_size=(5, 5), stride=(1, 1))\n",
      "  (1): BatchNorm2d(6, eps=1e-05, momentum=0.1, affine=True, track_running_stats=True)\n",
      "  (2): ReLU()\n",
      "  (3): MaxPool2d(kernel_size=2, stride=2, padding=0, dilation=1, ceil_mode=False)\n",
      "  (4): Conv2d(6, 16, kernel_size=(5, 5), stride=(1, 1))\n",
      "  (5): BatchNorm2d(16, eps=1e-05, momentum=0.1, affine=True, track_running_stats=True)\n",
      "  (6): ReLU()\n",
      "  (7): MaxPool2d(kernel_size=2, stride=2, padding=0, dilation=1, ceil_mode=False)\n",
      "  (8): Flatten(start_dim=1, end_dim=-1)\n",
      "  (9): Linear(in_features=400, out_features=120, bias=True)\n",
      "  (10): BatchNorm1d(120, eps=1e-05, momentum=0.1, affine=True, track_running_stats=True)\n",
      "  (11): ReLU()\n",
      "  (12): Linear(in_features=120, out_features=84, bias=True)\n",
      "  (13): BatchNorm1d(84, eps=1e-05, momentum=0.1, affine=True, track_running_stats=True)\n",
      "  (14): ReLU()\n",
      "  (15): Linear(in_features=84, out_features=2, bias=True)\n",
      ")\n",
      "Accuracy = 0.66%\n"
     ]
    }
   ],
   "source": [
    "# info about the model\n",
    "print('Model arch:\\n', model)\n",
    "# Model accuracy\n",
    "acc = np.sum(y_pred.argmax(1) == y_test) / len(y_test)\n",
    "print(f'Accuracy = {acc:.2}%')"
   ]
  },
  {
   "cell_type": "code",
   "execution_count": 41,
   "metadata": {},
   "outputs": [],
   "source": [
    "# Image Classification - Interpretability\n",
    "model.eval()\n",
    "\n",
    "# grab one test image\n",
    "ind = 0\n",
    "dataiter = iter(test_dl)\n",
    "images, labels = dataiter.next()\n",
    "img_input = images[ind].unsqueeze(0)\n",
    "img_input.requires_grad = True"
   ]
  },
  {
   "cell_type": "code",
   "execution_count": 42,
   "metadata": {},
   "outputs": [
    {
     "name": "stdout",
     "output_type": "stream",
     "text": [
      "Approximation delta:  tensor([0.2110, 0.1687, 0.2796, 0.0381, 0.4293], device='cuda:0',\n",
      "       dtype=torch.float64)\n"
     ]
    },
    {
     "data": {
      "image/png": "[encoded data removed]",
      "text/plain": [
       "<Figure size 432x288 with 1 Axes>"
      ]
     },
     "metadata": {
      "needs_background": "light"
     },
     "output_type": "display_data"
    },
    {
     "data": {
      "image/png": "[encoded data removed]",
      "text/plain": [
       "<Figure size 432x432 with 2 Axes>"
      ]
     },
     "metadata": {
      "needs_background": "light"
     },
     "output_type": "display_data"
    }
   ],
   "source": [
    "# get pixel attribution\n",
    "ig = IntegratedGradients(model)\n",
    "nt = NoiseTunnel(ig)\n",
    "attr_ig, delta = nt.attribute(img_input, target=labels[ind],  baselines=img_input * 0, return_convergence_delta=True)\n",
    "attr_ig = np.transpose(attr_ig.squeeze().cpu().detach().numpy(), (1, 2, 0))\n",
    "print('Approximation delta: ', abs(delta))\n",
    "\n",
    "# plot pixel attribution\n",
    "original_image = np.transpose(images[ind].cpu().detach().numpy().astype(int), (1, 2, 0))\n",
    "plt.imshow(original_image)\n",
    "\n",
    "_ = viz.visualize_image_attr(attr_ig, original_image, method=\"blended_heat_map\",sign=\"all\",\n",
    "                          show_colorbar=True, title=\"Overlayed Integrated Gradients\")"
   ]
  },
  {
   "cell_type": "code",
   "execution_count": null,
   "metadata": {},
   "outputs": [],
   "source": []
  }
 ],
 "metadata": {
  "kernelspec": {
   "display_name": "Python 3",
   "language": "python",
   "name": "python3"
  },
  "language_info": {
   "codemirror_mode": {
    "name": "ipython",
    "version": 3
   },
   "file_extension": ".py",
   "mimetype": "text/x-python",
   "name": "python",
   "nbconvert_exporter": "python",
   "pygments_lexer": "ipython3",
   "version": "3.8.3"
  }
 },
 "nbformat": 4,
 "nbformat_minor": 5
}
